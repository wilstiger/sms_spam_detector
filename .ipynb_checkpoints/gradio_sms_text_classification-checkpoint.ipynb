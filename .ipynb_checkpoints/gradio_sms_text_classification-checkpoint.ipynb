{
 "cells": [
  {
   "cell_type": "code",
   "execution_count": 39,
   "metadata": {},
   "outputs": [
    {
     "name": "stdout",
     "output_type": "stream",
     "text": [
      "                                                                                                                                                              label  \\\n",
      "0                                                                                                                                                label,text_message   \n",
      "1                                             ham,\"Go until jurong point, crazy.. Available only in bugis n great world la e buffet... Cine there got amore wat...\"   \n",
      "2                                                                                                                                 ham,Ok lar... Joking wif u oni...   \n",
      "3  spam,Free entry in 2 a wkly comp to win FA Cup final tkts 21st May 2005. Text FA to 87121 to receive entry question(std txt rate)T&C's apply 08452810075over18's   \n",
      "4                                                                                                             ham,U dun say so early hor... U c already then say...   \n",
      "\n",
      "  message  \n",
      "0     NaN  \n",
      "1     NaN  \n",
      "2     NaN  \n",
      "3     NaN  \n",
      "4     NaN  \n"
     ]
    }
   ],
   "source": [
    "# Import pandas\n",
    "import pandas as pd\n",
    "# Import the required dependencies from sklearn\n",
    "from sklearn.model_selection import train_test_split\n",
    "from sklearn.pipeline import Pipeline\n",
    "from sklearn.feature_extraction.text import TfidfVectorizer\n",
    "from sklearn.svm import LinearSVC\n",
    "\n",
    "# Set the column width to view the text message data.\n",
    "pd.set_option('max_colwidth', 200)\n",
    "\n",
    "# Import Gradio\n",
    "import gradio as gr\n",
    "\n",
    "# Load dataset\n",
    "df = pd.read_csv(\"SMSSpamCollection.csv\", sep=\"\\t\", names=[\"label\", \"message\"])\n",
    "\n",
    "# Print first 5 rows\n",
    "print(df.head())"
   ]
  },
  {
   "cell_type": "code",
   "execution_count": 57,
   "metadata": {},
   "outputs": [
    {
     "name": "stdout",
     "output_type": "stream",
     "text": [
      "Unique label counts: label\n",
      "ham     4825\n",
      "spam     747\n",
      "Name: count, dtype: int64\n",
      "  label  \\\n",
      "0   ham   \n",
      "1   ham   \n",
      "2  spam   \n",
      "3   ham   \n",
      "4   ham   \n",
      "\n",
      "                                                                                                                                                  text_message  \n",
      "0                                              Go until jurong point, crazy.. Available only in bugis n great world la e buffet... Cine there got amore wat...  \n",
      "1                                                                                                                                Ok lar... Joking wif u oni...  \n",
      "2  Free entry in 2 a wkly comp to win FA Cup final tkts 21st May 2005. Text FA to 87121 to receive entry question(std txt rate)T&C's apply 08452810075over18's  \n",
      "3                                                                                                            U dun say so early hor... U c already then say...  \n",
      "4                                                                                                Nah I don't think he goes to usf, he lives around here though  \n",
      "Pipeline(steps=[('tfidf', TfidfVectorizer()), ('svc', LinearSVC(dual='auto'))])\n"
     ]
    }
   ],
   "source": [
    "import pandas as pd\n",
    "import os\n",
    "from sklearn.model_selection import train_test_split\n",
    "from sklearn.pipeline import Pipeline\n",
    "from sklearn.feature_extraction.text import TfidfVectorizer\n",
    "from sklearn.svm import LinearSVC\n",
    "\n",
    "def sms_classification(sms_text_df):\n",
    "    \"\"\"\n",
    "    Perform SMS classification using a pipeline with TF-IDF vectorization and Linear Support Vector Classification.\n",
    "\n",
    "    Parameters:\n",
    "    - sms_text_df (pd.DataFrame): DataFrame containing 'text_message' and 'label' columns for SMS classification.\n",
    "\n",
    "    Returns:\n",
    "    - text_clf (Pipeline): Fitted pipeline model for SMS classification.\n",
    "\n",
    "    This function takes a DataFrame with 'text_message' and 'label' columns, splits the data into\n",
    "    training and testing sets, builds a pipeline with TF-IDF vectorization and Linear Support Vector\n",
    "    Classification, and fits the model to the training data. \n",
    "    The fitted pipeline is returned to make future predictions.\n",
    "    \"\"\"\n",
    "    # Set the features variable to the text message column.\n",
    "    features = sms_text_df[\"text_message\"]\n",
    "    \n",
    "    # Set the target variable to the \"label\" column.\n",
    "    target = sms_text_df[\"label\"]\n",
    "\n",
    "    # Split data into training and testing and set the test_size = 33%\n",
    "    X_train, X_test, y_train, y_test = train_test_split(features, target, test_size=0.33, random_state=42, stratify=target)\n",
    "\n",
    "    # Build a pipeline to transform the test set to compare to the training set.\n",
    "    text_clf = Pipeline([\n",
    "        (\"tfidf\", TfidfVectorizer()),\n",
    "        (\"svc\", LinearSVC(dual=\"auto\"))\n",
    "    ])\n",
    "\n",
    "    # Fit the model to the transformed training data and return model.\n",
    "    text_clf.fit(X_train, y_train)\n",
    "    \n",
    "    return text_clf\n",
    "\n",
    "# Define file path\n",
    "file_path = \"SMSSpamCollection.csv\"\n",
    "\n",
    "# Check if file exists\n",
    "if not os.path.exists(file_path):\n",
    "    print(f\"Error: File '{file_path}' not found. Please check the file path and ensure it is in the correct directory.\")\n",
    "else:\n",
    "    # Load dataset correctly with proper column names\n",
    "    df = pd.read_csv(file_path, encoding=\"utf-8\")\n",
    "\n",
    "    # Rename columns to match expected format\n",
    "    df.columns = [\"label\", \"text_message\"]\n",
    "\n",
    "    # Drop any rows with missing values\n",
    "    df.dropna(inplace=True)\n",
    "\n",
    "    # Convert labels to lowercase for consistency\n",
    "    df[\"label\"] = df[\"label\"].str.lower()\n",
    "\n",
    "    # Check unique label counts\n",
    "    label_counts = df[\"label\"].value_counts()\n",
    "    print(\"Unique label counts:\", label_counts)\n",
    "\n",
    "    # Display first few rows to verify content\n",
    "    print(df.head())\n",
    "\n",
    "    # Ensure dataset contains both 'ham' and 'spam'\n",
    "    if len(label_counts) < 2:\n",
    "        print(\"Error: The dataset contains only one class. Please check if the dataset is loaded correctly.\")\n",
    "        print(\"Possible issues:\")\n",
    "        print(\"- Ensure 'SMSSpamCollection.csv' is in the correct format.\")\n",
    "        print(\"- The dataset should have both 'spam' and 'ham' labels.\")\n",
    "        print(\"- Check if the file is being read correctly with the right separator.\")\n",
    "    else:\n",
    "        # Train model\n",
    "        text_clf = sms_classification(df)\n",
    "\n",
    "        # Print model pipeline\n",
    "        print(text_clf)"
   ]
  },
  {
   "cell_type": "code",
   "execution_count": 59,
   "metadata": {},
   "outputs": [
    {
     "name": "stdout",
     "output_type": "stream",
     "text": [
      "  label  \\\n",
      "0   ham   \n",
      "1   ham   \n",
      "2  spam   \n",
      "3   ham   \n",
      "4   ham   \n",
      "\n",
      "                                                                                                                                                  text_message  \n",
      "0                                              Go until jurong point, crazy.. Available only in bugis n great world la e buffet... Cine there got amore wat...  \n",
      "1                                                                                                                                Ok lar... Joking wif u oni...  \n",
      "2  Free entry in 2 a wkly comp to win FA Cup final tkts 21st May 2005. Text FA to 87121 to receive entry question(std txt rate)T&C's apply 08452810075over18's  \n",
      "3                                                                                                            U dun say so early hor... U c already then say...  \n",
      "4                                                                                                Nah I don't think he goes to usf, he lives around here though  \n"
     ]
    }
   ],
   "source": [
    "# Load the dataset into a DataFrame\n",
    "df = pd.read_csv(\"SMSSpamCollection.csv\", encoding=\"utf-8\")\n",
    "\n",
    "# Rename columns to match expected format\n",
    "df.columns = [\"label\", \"text_message\"]\n",
    "\n",
    "# Display first few rows to verify content\n",
    "print(df.head())"
   ]
  },
  {
   "cell_type": "code",
   "execution_count": 61,
   "metadata": {},
   "outputs": [
    {
     "name": "stdout",
     "output_type": "stream",
     "text": [
      "Model training completed successfully.\n",
      "Pipeline(steps=[('tfidf', TfidfVectorizer()), ('svc', LinearSVC(dual='auto'))])\n"
     ]
    }
   ],
   "source": [
    "# Call the sms_classification function with the DataFrame and set the result to the \"text_clf\" variable\n",
    "if len(df[\"label\"].value_counts()) < 2:\n",
    "    print(\"Error: The dataset contains only one class. Cannot train the model.\")\n",
    "else:\n",
    "    text_clf = sms_classification(df)\n",
    "    print(\"Model training completed successfully.\")\n",
    "    print(text_clf)\n"
   ]
  },
  {
   "cell_type": "code",
   "execution_count": 55,
   "metadata": {},
   "outputs": [
    {
     "name": "stdout",
     "output_type": "stream",
     "text": [
      "Unique label counts: label\n",
      "ham     4825\n",
      "spam     747\n",
      "Name: count, dtype: int64\n",
      "  label  \\\n",
      "0   ham   \n",
      "1   ham   \n",
      "2  spam   \n",
      "3   ham   \n",
      "4   ham   \n",
      "\n",
      "                                                                                                                                                  text_message  \n",
      "0                                              Go until jurong point, crazy.. Available only in bugis n great world la e buffet... Cine there got amore wat...  \n",
      "1                                                                                                                                Ok lar... Joking wif u oni...  \n",
      "2  Free entry in 2 a wkly comp to win FA Cup final tkts 21st May 2005. Text FA to 87121 to receive entry question(std txt rate)T&C's apply 08452810075over18's  \n",
      "3                                                                                                            U dun say so early hor... U c already then say...  \n",
      "4                                                                                                Nah I don't think he goes to usf, he lives around here though  \n",
      "Pipeline(steps=[('tfidf', TfidfVectorizer()), ('svc', LinearSVC(dual='auto'))])\n"
     ]
    }
   ],
   "source": [
    "# Create a function called `sms_prediction` that takes in the SMS text and predicts the whether the text is \"not spam\" or \"spam\". \n",
    "# The function should return the SMS message, and say whether the text is \"not spam\" or \"spam\".\n",
    "def sms_prediction(text):\n",
    "    \"\"\"\n",
    "    Predict the spam/ham classification of a given text message using a pre-trained model.\n",
    "\n",
    "    Parameters:\n",
    "    - text (str): The text message to be classified.\n",
    "\n",
    "    Returns:\n",
    "    - str: A message indicating whether the text message is classified as spam or not.\n",
    "\n",
    "    This function takes a text message and a pre-trained pipeline model, then predicts the\n",
    "    spam/ham classification of the text. The result is a message stating whether the text is\n",
    "    classified as spam or not.\n",
    "    \"\"\"\n",
    "    # Create a variable that will hold the prediction of a new text.\n",
    "    \n",
    "    # Using a conditional if the prediction is \"ham\" return the message:\n",
    "    # f'The text message: \"{text}\", is not spam.' Else, return f'The text message: \"{text}\", is spam.'\n",
    "    "
   ]
  },
  {
   "cell_type": "code",
   "execution_count": 63,
   "metadata": {},
   "outputs": [
    {
     "name": "stdout",
     "output_type": "stream",
     "text": [
      "* Running on local URL:  http://127.0.0.1:7860\n",
      "\n",
      "To create a public link, set `share=True` in `launch()`.\n"
     ]
    },
    {
     "data": {
      "text/html": [
       "<div><iframe src=\"http://127.0.0.1:7860/\" width=\"100%\" height=\"500\" allow=\"autoplay; camera; microphone; clipboard-read; clipboard-write;\" frameborder=\"0\" allowfullscreen></iframe></div>"
      ],
      "text/plain": [
       "<IPython.core.display.HTML object>"
      ]
     },
     "metadata": {},
     "output_type": "display_data"
    },
    {
     "data": {
      "text/plain": []
     },
     "execution_count": 63,
     "metadata": {},
     "output_type": "execute_result"
    }
   ],
   "source": [
    "import gradio as gr\n",
    "\n",
    "# Define prediction function\n",
    "def sms_prediction(text):\n",
    "    prediction = text_clf.predict([text])[0]\n",
    "    return f\"The text message: '{text}' is classified as '{prediction}'.\"\n",
    "\n",
    "# Create the Gradio interface\n",
    "sms_app = gr.Interface(\n",
    "    fn=sms_prediction,\n",
    "    inputs=gr.Textbox(label=\"Enter SMS Text\"),\n",
    "    outputs=gr.Textbox(label=\"Prediction\"),\n",
    "    title=\"SMS Spam Detector\",\n",
    "    description=\"Enter a text message to check if it is classified as spam or ham.\"\n",
    ")\n",
    "\n",
    "# Launch the app\n",
    "sms_app.launch()\n"
   ]
  },
  {
   "cell_type": "markdown",
   "metadata": {},
   "source": [
    "## Test the following text messages. \n",
    "\n",
    "---\n",
    "\n",
    "1. You are a lucky winner of $5000!\n",
    "2. You won 2 free tickets to the Super Bowl.\n",
    "3. You won 2 free tickets to the Super Bowl text us to claim your prize.\n",
    "4. Thanks for registering. Text 4343 to receive free updates on medicare."
   ]
  },
  {
   "cell_type": "code",
   "execution_count": null,
   "metadata": {},
   "outputs": [],
   "source": []
  }
 ],
 "metadata": {
  "kernelspec": {
   "display_name": "Python 3 (ipykernel)",
   "language": "python",
   "name": "python3"
  },
  "language_info": {
   "codemirror_mode": {
    "name": "ipython",
    "version": 3
   },
   "file_extension": ".py",
   "mimetype": "text/x-python",
   "name": "python",
   "nbconvert_exporter": "python",
   "pygments_lexer": "ipython3",
   "version": "3.12.4"
  }
 },
 "nbformat": 4,
 "nbformat_minor": 4
}
